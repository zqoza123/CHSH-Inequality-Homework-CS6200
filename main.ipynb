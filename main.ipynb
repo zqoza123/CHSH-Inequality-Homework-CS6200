{
 "cells": [
  {
   "cell_type": "code",
   "execution_count": null,
   "id": "17634713",
   "metadata": {},
   "outputs": [],
   "source": [
    "# General\n",
    "import numpy as np"
   ]
  },
  {
   "cell_type": "code",
   "execution_count": null,
   "id": "66981f00",
   "metadata": {},
   "outputs": [],
   "source": [
    "# Plotting routines\n",
    "import matplotlib.pyplot as plt\n",
    "from collections import defaultdict"
   ]
  },
  {
   "cell_type": "code",
   "execution_count": null,
   "id": "31ffcab5",
   "metadata": {},
   "outputs": [],
   "source": [
    "# Qiskit imports\n",
    "from qiskit import QuantumCircuit, QuantumRegister, ClassicalRegister\n",
    "from qiskit.visualization import plot_histogram\n",
    "from qiskit.transpiler.preset_passmanagers import generate_preset_pass_manager"
   ]
  },
  {
   "cell_type": "code",
   "execution_count": null,
   "id": "02f44234",
   "metadata": {},
   "outputs": [],
   "source": [
    "# Qiskit Aer imports\n",
    "from qiskit_aer import AerSimulator\n",
    "from qiskit_aer.noise import NoiseModel"
   ]
  },
  {
   "cell_type": "code",
   "execution_count": null,
   "id": "e1e7b278",
   "metadata": {
    "lines_to_next_cell": 1
   },
   "outputs": [],
   "source": [
    "# Qiskit Runtime imports\n",
    "from qiskit_ibm_runtime import QiskitRuntimeService, Sampler, SamplerOptions\n",
    "from qiskit.providers.jobstatus import JobStatus"
   ]
  },
  {
   "cell_type": "code",
   "execution_count": null,
   "id": "03be4111",
   "metadata": {
    "lines_to_next_cell": 1
   },
   "outputs": [],
   "source": [
    "def BellCircuit(qreg_name='q', creg_name='c') -> QuantumCircuit:\n",
    "    qreg_q = QuantumRegister(2, qreg_name)\n",
    "    creg_c = ClassicalRegister(2, creg_name)\n",
    "    qc = QuantumCircuit(qreg_q, creg_c)\n",
    "    qc.h(qreg_q[0])\n",
    "    qc.cx(qreg_q[0], qreg_q[1])\n",
    "    qc.barrier()\n",
    "    return qc"
   ]
  },
  {
   "cell_type": "code",
   "execution_count": null,
   "id": "dd740ad9",
   "metadata": {},
   "outputs": [],
   "source": [
    "bell = BellCircuit()\n",
    "bell.draw(output='mpl')\n",
    "plt.show()"
   ]
  },
  {
   "cell_type": "code",
   "execution_count": null,
   "id": "e9f90e45",
   "metadata": {
    "lines_to_next_cell": 1
   },
   "outputs": [],
   "source": [
    "views = (\"AB\", \"Ab\", \"aB\", \"ab\")"
   ]
  },
  {
   "cell_type": "code",
   "execution_count": null,
   "id": "05391db1",
   "metadata": {
    "lines_to_next_cell": 1
   },
   "outputs": [],
   "source": [
    "def MeasureWithView(circuit: QuantumCircuit, view: str):\n",
    "    if view == \"AB\":\n",
    "        circuit.ry(-np.pi / 4, circuit.qubits[1])\n",
    "        circuit.measure([0, 1], [0, 1])\n",
    "    elif view == \"Ab\":\n",
    "        circuit.ry(np.pi / 4, circuit.qubits[1])\n",
    "        circuit.measure([0, 1], [0, 1])\n",
    "    elif view == \"aB\":\n",
    "        circuit.ry(-np.pi / 4, circuit.qubits[1])\n",
    "        circuit.h(circuit.qubits[0])\n",
    "        circuit.measure([0, 1], [0, 1])\n",
    "    elif view == \"ab\":\n",
    "        circuit.ry(np.pi / 4, circuit.qubits[1])\n",
    "        circuit.h(circuit.qubits[0])\n",
    "        circuit.measure([0, 1], [0, 1])\n",
    "    return circuit"
   ]
  },
  {
   "cell_type": "code",
   "execution_count": null,
   "id": "574a854d",
   "metadata": {},
   "outputs": [],
   "source": [
    "circuits = [MeasureWithView(BellCircuit('q' + view, 'c' + view), view) for view in views]"
   ]
  },
  {
   "cell_type": "code",
   "execution_count": null,
   "id": "b72be75b",
   "metadata": {
    "lines_to_next_cell": 1
   },
   "outputs": [],
   "source": [
    "for circuit, view in zip(circuits, views):\n",
    "    print(f\"Circuit for view {view}:\")\n",
    "    circuit.draw(output='mpl')\n",
    "    plt.show()"
   ]
  },
  {
   "cell_type": "code",
   "execution_count": null,
   "id": "afccfe5a",
   "metadata": {
    "lines_to_next_cell": 1
   },
   "outputs": [],
   "source": [
    "def PlotCircuits(*circuits: QuantumCircuit):\n",
    "    num_circuits = len(circuits)\n",
    "    fig, axs = plt.subplots(1, num_circuits, figsize=(4 * num_circuits, 4))\n",
    "    if num_circuits == 1:\n",
    "        axs = [axs]\n",
    "    for i, (circuit, ax) in enumerate(zip(circuits, axs)):\n",
    "        circuit.draw(output='mpl', ax=ax)\n",
    "        ax.set_title(f'Circuit {i + 1}')\n",
    "    plt.tight_layout()\n",
    "    plt.show()"
   ]
  },
  {
   "cell_type": "code",
   "execution_count": null,
   "id": "c42aa352",
   "metadata": {
    "lines_to_next_cell": 1
   },
   "outputs": [],
   "source": [
    "PlotCircuits(*circuits)"
   ]
  },
  {
   "cell_type": "code",
   "execution_count": null,
   "id": "d86e8814",
   "metadata": {
    "lines_to_next_cell": 1
   },
   "outputs": [],
   "source": [
    "def PlotCircuitResults(circuit_results: dict):\n",
    "    try:\n",
    "        formatted_results = {}\n",
    "        for view, counts in circuit_results.items():\n",
    "            if isinstance(counts, dict):\n",
    "                formatted_counts = {}\n",
    "                for k, v in counts.items():\n",
    "                    if isinstance(v, dict):\n",
    "                        print(f\"Skipping nested dict for key {k} in view {view}.\")\n",
    "                        continue\n",
    "                    if not isinstance(k, str):\n",
    "                        k = str(k)\n",
    "                    if not isinstance(v, (int, float)):\n",
    "                        print(f\"Invalid count value for key {k} in view {view}: {v}\")\n",
    "                        continue\n",
    "                    formatted_counts[k] = v\n",
    "                if formatted_counts:\n",
    "                    formatted_results[view] = formatted_counts\n",
    "            else:\n",
    "                print(f\"Counts for view {view} are not in the expected format.\")\n",
    "        plot_histogram(formatted_results, figsize=(8, 6))\n",
    "        plt.show()\n",
    "    except Exception as e:\n",
    "        print(f\"Error encountered while plotting results: {e}\")"
   ]
  },
  {
   "cell_type": "code",
   "execution_count": null,
   "id": "265c25b5",
   "metadata": {},
   "outputs": [],
   "source": [
    "PlotCircuitResults({\n",
    "    \"AB\": {\"00\": 400, \"01\": 300, \"10\": 200, \"11\": 100},\n",
    "    \"Ab\": {\"00\": 100, \"01\": 200, \"10\": 300, \"11\": 400},\n",
    "    \"aB\": {\"00\": 250, \"01\": 250, \"10\": 250, \"11\": 250},\n",
    "    \"ab\": {\"00\": 900, \"01\": 0, \"10\": 0, \"11\": 100},\n",
    "})"
   ]
  },
  {
   "cell_type": "code",
   "execution_count": null,
   "id": "5696f1a9",
   "metadata": {},
   "outputs": [],
   "source": [
    "simulator = AerSimulator()\n",
    "job = simulator.run(circuits, shots=1000)\n",
    "ideal_results = job.result()"
   ]
  },
  {
   "cell_type": "code",
   "execution_count": null,
   "id": "06e8f2c9",
   "metadata": {},
   "outputs": [],
   "source": [
    "ideal_counts = {view: ideal_results.get_counts(circuit) for view, circuit in zip(views, circuits)}"
   ]
  },
  {
   "cell_type": "code",
   "execution_count": null,
   "id": "adcfa561",
   "metadata": {},
   "outputs": [],
   "source": [
    "PlotCircuitResults(ideal_counts)"
   ]
  },
  {
   "cell_type": "code",
   "execution_count": null,
   "id": "2ef76743",
   "metadata": {},
   "outputs": [],
   "source": [
    "service = QiskitRuntimeService()"
   ]
  },
  {
   "cell_type": "code",
   "execution_count": null,
   "id": "84c53230",
   "metadata": {},
   "outputs": [],
   "source": [
    "backend_name = 'ibm_kyiv'\n",
    "backend = service.backend(backend_name)"
   ]
  },
  {
   "cell_type": "code",
   "execution_count": null,
   "id": "becf0f50",
   "metadata": {},
   "outputs": [],
   "source": [
    "noise_model = NoiseModel.from_backend(backend)"
   ]
  },
  {
   "cell_type": "code",
   "execution_count": null,
   "id": "c959d606",
   "metadata": {},
   "outputs": [],
   "source": [
    "noisy_simulator = AerSimulator(noise_model=noise_model)"
   ]
  },
  {
   "cell_type": "code",
   "execution_count": null,
   "id": "27e84a76",
   "metadata": {},
   "outputs": [],
   "source": [
    "transpiler = generate_preset_pass_manager(optimization_level=1, backend=backend)\n",
    "transpiled_circuits = transpiler.run(circuits)"
   ]
  },
  {
   "cell_type": "code",
   "execution_count": null,
   "id": "7caf0d28",
   "metadata": {},
   "outputs": [],
   "source": [
    "job = noisy_simulator.run(transpiled_circuits, shots=1000)\n",
    "noisy_results = job.result()"
   ]
  },
  {
   "cell_type": "code",
   "execution_count": null,
   "id": "d22eaee2",
   "metadata": {},
   "outputs": [],
   "source": [
    "noisy_counts = {view: noisy_results.get_counts(circuit) for view, circuit in zip(views, transpiled_circuits)}"
   ]
  },
  {
   "cell_type": "code",
   "execution_count": null,
   "id": "67b1d16c",
   "metadata": {},
   "outputs": [],
   "source": [
    "PlotCircuitResults(noisy_counts)"
   ]
  },
  {
   "cell_type": "code",
   "execution_count": null,
   "id": "52b96b2f",
   "metadata": {},
   "outputs": [],
   "source": []
  },
  {
   "cell_type": "code",
   "execution_count": null,
   "id": "ea5195dd",
   "metadata": {},
   "outputs": [],
   "source": [
    "circ_combined = QuantumCircuit()"
   ]
  },
  {
   "cell_type": "code",
   "execution_count": null,
   "id": "220bfd23",
   "metadata": {},
   "outputs": [],
   "source": [
    "for view in views:\n",
    "    qreg_name = f'q_{view}'\n",
    "    creg_name = f'c_{view}'\n",
    "\n",
    "    experiment_circuit = MeasureWithView(BellCircuit(qreg_name, creg_name), view)\n",
    "\n",
    "    circ_combined.add_register(experiment_circuit.qregs[0])\n",
    "    circ_combined.add_register(experiment_circuit.cregs[0])\n",
    "\n",
    "    qubit_indices = list(range(circ_combined.num_qubits - 2, circ_combined.num_qubits))\n",
    "    clbit_indices = list(range(circ_combined.num_clbits - 2, circ_combined.num_clbits))\n",
    "\n",
    "    circ_combined.compose(\n",
    "        experiment_circuit,\n",
    "        qubits=qubit_indices,\n",
    "        clbits=clbit_indices,\n",
    "        inplace=True\n",
    "    )"
   ]
  },
  {
   "cell_type": "code",
   "execution_count": null,
   "id": "a5f437eb",
   "metadata": {},
   "outputs": [],
   "source": [
    "circ_combined.draw('mpl')\n",
    "plt.show()"
   ]
  },
  {
   "cell_type": "code",
   "execution_count": null,
   "id": "fa60c30d",
   "metadata": {},
   "outputs": [],
   "source": [
    "num_qubits = 8 * ((backend.num_qubits * 4 // 5) // 8)\n",
    "print(f\"Total qubits in circ_real: {num_qubits}\")"
   ]
  },
  {
   "cell_type": "code",
   "execution_count": null,
   "id": "f213e0e9",
   "metadata": {},
   "outputs": [],
   "source": [
    "circuit_qubits = circ_combined.num_qubits\n",
    "num_repeats = num_qubits // circuit_qubits\n",
    "print(f\"Number of repeats: {num_repeats}\")"
   ]
  },
  {
   "cell_type": "code",
   "execution_count": null,
   "id": "c0fe3545",
   "metadata": {},
   "outputs": [],
   "source": [
    "circ_real = QuantumCircuit()"
   ]
  },
  {
   "cell_type": "code",
   "execution_count": null,
   "id": "6bb1837a",
   "metadata": {},
   "outputs": [],
   "source": [
    "for repeat in range(num_repeats):\n",
    "    qreg_name = f'q_rep{repeat}'\n",
    "    creg_name = f'c_rep{repeat}'\n",
    "\n",
    "    qreg = QuantumRegister(circuit_qubits, name=qreg_name)\n",
    "    creg = ClassicalRegister(circuit_qubits, name=creg_name)\n",
    "\n",
    "    circ_real.add_register(qreg)\n",
    "    circ_real.add_register(creg)\n",
    "\n",
    "    qubit_indices = list(range(circuit_qubits * repeat, circuit_qubits * (repeat + 1)))\n",
    "    clbit_indices = list(range(circuit_qubits * repeat, circuit_qubits * (repeat + 1)))\n",
    "\n",
    "    circ_real.compose(\n",
    "        circ_combined,\n",
    "        qubits=qubit_indices,\n",
    "        clbits=clbit_indices,\n",
    "        inplace=True\n",
    "    )"
   ]
  },
  {
   "cell_type": "code",
   "execution_count": null,
   "id": "64617d04",
   "metadata": {},
   "outputs": [],
   "source": [
    "print(f\"Total qubits in circ_real after repetition: {circ_real.num_qubits}\")\n",
    "print(f\"Total classical bits in circ_real after repetition: {circ_real.num_clbits}\")"
   ]
  },
  {
   "cell_type": "code",
   "execution_count": null,
   "id": "11357e55",
   "metadata": {},
   "outputs": [],
   "source": [
    "circ_real.draw('mpl', scale=0.7)\n",
    "plt.show()"
   ]
  },
  {
   "cell_type": "code",
   "execution_count": null,
   "id": "bd3f0cc9",
   "metadata": {},
   "outputs": [],
   "source": [
    "pass_manager = generate_preset_pass_manager(optimization_level=2, backend=backend)\n",
    "transpiled_circ_real = pass_manager.run(circ_real)\n",
    "print(\"Depth of transpiled circuit:\", transpiled_circ_real.depth())"
   ]
  },
  {
   "cell_type": "code",
   "execution_count": null,
   "id": "cb1618e0",
   "metadata": {},
   "outputs": [],
   "source": [
    "sampler_options = {'shots': 1000}  # Include valid options\n",
    "sampler = Sampler(backend=backend, options=sampler_options)"
   ]
  },
  {
   "cell_type": "code",
   "execution_count": null,
   "id": "f06daea8",
   "metadata": {},
   "outputs": [],
   "source": [
    "job = sampler.run([transpiled_circ_real])\n",
    "job_id = job.job_id()\n",
    "print(f\"Job ID: {job_id}\")"
   ]
  },
  {
   "cell_type": "code",
   "execution_count": null,
   "id": "231ab2be",
   "metadata": {},
   "outputs": [],
   "source": [
    "import time"
   ]
  },
  {
   "cell_type": "code",
   "execution_count": null,
   "id": "8bf44a0d",
   "metadata": {},
   "outputs": [],
   "source": [
    "while True:\n",
    "    status = job.status()\n",
    "    print(f\"Job status: {status}\")\n",
    "    if status == JobStatus.DONE or status == JobStatus.ERROR:\n",
    "        break\n",
    "    time.sleep(10)"
   ]
  },
  {
   "cell_type": "code",
   "execution_count": null,
   "id": "e703fd06",
   "metadata": {},
   "outputs": [],
   "source": [
    "if status == JobStatus.DONE:\n",
    "    result = job.result()\n",
    "\n",
    "    real_counts = {view: defaultdict(float) for view in views}\n",
    "\n",
    "    quasi_dist = result.quasi_dists[0]\n",
    "\n",
    "    probs = quasi_dist.nearest_probability_distribution()\n",
    "\n",
    "    counts = {int(k): v * sampler_options['shots'] for k, v in probs.items()}\n",
    "\n",
    "    num_clbits = circ_real.num_clbits\n",
    "    counts = {format(k, f'0{num_clbits}b'): v for k, v in counts.items()}\n",
    "\n",
    "    for bitstring, value in counts.items():\n",
    "        if not isinstance(value, (int, float)):\n",
    "            print(f\"Invalid count value for bitstring {bitstring}: {value}\")\n",
    "            continue\n",
    "        for repeat in range(num_repeats):\n",
    "            offset = repeat * circuit_qubits\n",
    "            segment = bitstring[offset:offset + circuit_qubits]\n",
    "            index = 0\n",
    "            for view in views:\n",
    "                view_bits = segment[index:index + 2]\n",
    "                real_counts[view][view_bits] += value\n",
    "                index += 2\n",
    "\n",
    "    real_counts = {view: dict(count_dict) for view, count_dict in real_counts.items()}\n",
    "\n",
    "    print(\"real_counts:\", real_counts)\n",
    "\n",
    "    PlotCircuitResults(real_counts)\n",
    "else:\n",
    "    print(\"Job did not complete successfully.\")\n",
    "    job_error_message = job.error_message()\n",
    "    print(f\"Job error message: {job_error_message}\")"
   ]
  },
  {
   "cell_type": "code",
   "execution_count": null,
   "id": "df2c93b8",
   "metadata": {},
   "outputs": [],
   "source": [
    "circuit_qubits = circ_combined.num_qubits\n",
    "num_repeats = num_qubits // circuit_qubits"
   ]
  },
  {
   "cell_type": "code",
   "execution_count": null,
   "id": "ada6c1d6",
   "metadata": {},
   "outputs": [],
   "source": [
    "if num_repeats == 0:\n",
    "    num_repeats = 1"
   ]
  },
  {
   "cell_type": "code",
   "execution_count": null,
   "id": "9b26f2e5",
   "metadata": {},
   "outputs": [],
   "source": [
    "print(f\"Number of repeats: {num_repeats}\")"
   ]
  },
  {
   "cell_type": "code",
   "execution_count": null,
   "id": "d05a257a",
   "metadata": {},
   "outputs": [],
   "source": [
    "circ_real = QuantumCircuit()\n",
    "for repeat in range(num_repeats):\n",
    "    offset = repeat * circuit_qubits\n",
    "    circ_real.add_register(QuantumRegister(circuit_qubits, name=f'q{repeat}'))\n",
    "    circ_real.add_register(ClassicalRegister(circuit_qubits, name=f'c{repeat}'))\n",
    "    circ_real.compose(\n",
    "        circ_combined,\n",
    "        qubits=range(offset, offset + circuit_qubits),\n",
    "        clbits=range(offset, offset + circuit_qubits),\n",
    "        inplace=True\n",
    "    )"
   ]
  },
  {
   "cell_type": "code",
   "execution_count": null,
   "id": "5fdecd15",
   "metadata": {},
   "outputs": [],
   "source": [
    "circ_real.draw('mpl')\n",
    "plt.show()"
   ]
  },
  {
   "cell_type": "code",
   "execution_count": null,
   "id": "75ddfe93",
   "metadata": {},
   "outputs": [],
   "source": [
    "pass_manager = generate_preset_pass_manager(optimization_level=2, backend=backend)  # Corrected function call\n",
    "transpiled_circ_real = pass_manager.run(circ_real)\n",
    "print(\"Depth of transpiled circuit:\", transpiled_circ_real.depth())"
   ]
  },
  {
   "cell_type": "code",
   "execution_count": null,
   "id": "5b77da29",
   "metadata": {},
   "outputs": [],
   "source": [
    "sampler_options = SamplerOptions(resilience_level=1)\n",
    "sampler = Sampler(backend=backend, options=sampler_options)"
   ]
  },
  {
   "cell_type": "code",
   "execution_count": null,
   "id": "baec9b04",
   "metadata": {},
   "outputs": [],
   "source": [
    "job = sampler.run([transpiled_circ_real])\n",
    "job_id = job.job_id()\n",
    "print(f\"Job ID: {job_id}\")"
   ]
  },
  {
   "cell_type": "code",
   "execution_count": null,
   "id": "3a0486a6",
   "metadata": {},
   "outputs": [],
   "source": [
    "import time\n",
    "while True:\n",
    "    status = job.status()\n",
    "    print(f\"Job status: {status}\")\n",
    "    if status == JobStatus.DONE or status == JobStatus.ERROR:\n",
    "        break\n",
    "    time.sleep(10)"
   ]
  },
  {
   "cell_type": "code",
   "execution_count": null,
   "id": "66d554b8",
   "metadata": {},
   "outputs": [],
   "source": [
    "result = job.result()"
   ]
  },
  {
   "cell_type": "code",
   "execution_count": null,
   "id": "e4256244",
   "metadata": {},
   "outputs": [],
   "source": [
    "real_counts = {view: defaultdict(float) for view in views}"
   ]
  },
  {
   "cell_type": "code",
   "execution_count": null,
   "id": "06cca7ce",
   "metadata": {},
   "outputs": [],
   "source": [
    "quasi_dist = result.quasi_dists[0]"
   ]
  },
  {
   "cell_type": "code",
   "execution_count": null,
   "id": "f7019221",
   "metadata": {},
   "outputs": [],
   "source": [
    "total_shots = 1000"
   ]
  },
  {
   "cell_type": "code",
   "execution_count": null,
   "id": "6189791c",
   "metadata": {},
   "outputs": [],
   "source": [
    "probs = quasi_dist.nearest_probability_distribution()"
   ]
  },
  {
   "cell_type": "code",
   "execution_count": null,
   "id": "c8452ec8",
   "metadata": {},
   "outputs": [],
   "source": [
    "counts = {int(k): v * total_shots for k, v in probs.items()}"
   ]
  },
  {
   "cell_type": "code",
   "execution_count": null,
   "id": "5086d652",
   "metadata": {},
   "outputs": [],
   "source": [
    "num_clbits = circ_real.num_clbits\n",
    "counts = {format(k, f'0{num_clbits}b'): v for k, v in counts.items()}"
   ]
  },
  {
   "cell_type": "code",
   "execution_count": null,
   "id": "ecc7c139",
   "metadata": {},
   "outputs": [],
   "source": [
    "for bitstring, value in counts.items():\n",
    "    for repeat in range(num_repeats):\n",
    "        offset = repeat * circ_combined.num_clbits\n",
    "        segment = bitstring[offset:offset + circ_combined.num_clbits]\n",
    "        index = 0\n",
    "        for view in views:\n",
    "            view_bits = segment[index:index + 2]\n",
    "            if not isinstance(value, (int, float)):\n",
    "                print(f\"Invalid count value for bitstring {bitstring}: {value}\")\n",
    "                continue\n",
    "            real_counts[view][view_bits] += value\n",
    "            index += 2"
   ]
  },
  {
   "cell_type": "code",
   "execution_count": null,
   "id": "555b158d",
   "metadata": {},
   "outputs": [],
   "source": [
    "real_counts = {view: dict(count_dict) for view, count_dict in real_counts.items()}"
   ]
  },
  {
   "cell_type": "code",
   "execution_count": null,
   "id": "d6c4de83",
   "metadata": {},
   "outputs": [],
   "source": [
    "print(\"real_counts:\", real_counts)"
   ]
  },
  {
   "cell_type": "code",
   "execution_count": null,
   "id": "001212b5",
   "metadata": {},
   "outputs": [],
   "source": [
    "PlotCircuitResults(real_counts)"
   ]
  },
  {
   "cell_type": "code",
   "execution_count": null,
   "id": "533466cc",
   "metadata": {},
   "outputs": [],
   "source": [
    "def ExpectationValue(counts):\n",
    "\n",
    "    total_shots = sum(counts.values())\n",
    "\n",
    "    if total_shots == 0:\n",
    "        raise ValueError(\"Total number of shots is zero. Cannot compute expectation value.\")\n",
    "\n",
    "    P00 = counts.get('00', 0) / total_shots\n",
    "    P11 = counts.get('11', 0) / total_shots\n",
    "    P01 = counts.get('01', 0) / total_shots\n",
    "    P10 = counts.get('10', 0) / total_shots\n",
    "\n",
    "    expectation = P00 + P11 - P01 - P10\n",
    "\n",
    "    return expectation"
   ]
  },
  {
   "cell_type": "code",
   "execution_count": null,
   "id": "6c800a8c",
   "metadata": {},
   "outputs": [],
   "source": [
    "ideal_expectation = {}"
   ]
  },
  {
   "cell_type": "code",
   "execution_count": null,
   "id": "0629123f",
   "metadata": {},
   "outputs": [],
   "source": [
    "for view in views:\n",
    "    counts = ideal_counts.get(view, {})\n",
    "    expectation = ExpectationValue(counts)\n",
    "    ideal_expectation[view] = expectation\n",
    "    print(f\"Expectation value for {view} (Ideal Simulator): {expectation:.4f}\")"
   ]
  },
  {
   "cell_type": "code",
   "execution_count": null,
   "id": "b7c453dd",
   "metadata": {
    "lines_to_next_cell": 2
   },
   "outputs": [],
   "source": [
    "print(\"\\n\")"
   ]
  },
  {
   "cell_type": "code",
   "execution_count": null,
   "id": "d7b8ed87",
   "metadata": {},
   "outputs": [],
   "source": [
    "noisy_expectation = {}"
   ]
  },
  {
   "cell_type": "code",
   "execution_count": null,
   "id": "e6e4959d",
   "metadata": {},
   "outputs": [],
   "source": [
    "for view in views:\n",
    "    counts = noisy_counts.get(view, {})\n",
    "    expectation = ExpectationValue(counts)\n",
    "    noisy_expectation[view] = expectation\n",
    "    print(f\"Expectation value for {view} (Noisy Simulator): {expectation:.4f}\")"
   ]
  },
  {
   "cell_type": "code",
   "execution_count": null,
   "id": "6d7c4a8c",
   "metadata": {},
   "outputs": [],
   "source": [
    "print(\"\\n\")"
   ]
  },
  {
   "cell_type": "code",
   "execution_count": null,
   "id": "b2d0f113",
   "metadata": {},
   "outputs": [],
   "source": [
    "real_expectation = {}"
   ]
  },
  {
   "cell_type": "code",
   "execution_count": null,
   "id": "eeb5f889",
   "metadata": {
    "lines_to_next_cell": 1
   },
   "outputs": [],
   "source": [
    "for view in views:\n",
    "    counts = real_counts.get(view, {})\n",
    "    expectation = ExpectationValue(counts)\n",
    "    real_expectation[view] = expectation\n",
    "    print(f\"Expectation value for {view} (IBM Quantum Computer): {expectation:.4f}\")"
   ]
  },
  {
   "cell_type": "code",
   "execution_count": null,
   "id": "444d21ca",
   "metadata": {},
   "outputs": [],
   "source": [
    "def CHSHValue(ev):\n",
    "\n",
    "    try:\n",
    "        AB = ev.get('AB', 0)\n",
    "        Ab = ev.get('Ab', 0)\n",
    "        aB = ev.get('aB', 0)\n",
    "        ab = ev.get('ab', 0)\n",
    "        CHSH = AB + Ab + aB - ab\n",
    "\n",
    "        return CHSH\n",
    "    except Exception as e:\n",
    "        print(f\"Error calculating CHSH value: {e}\")\n",
    "        return None"
   ]
  },
  {
   "cell_type": "code",
   "execution_count": null,
   "id": "808c67b7",
   "metadata": {},
   "outputs": [],
   "source": []
  },
  {
   "cell_type": "code",
   "execution_count": null,
   "id": "2ae2057d",
   "metadata": {},
   "outputs": [],
   "source": [
    "ideal_CHSH = CHSHValue(ideal_expectation)"
   ]
  },
  {
   "cell_type": "code",
   "execution_count": null,
   "id": "c6017011",
   "metadata": {},
   "outputs": [],
   "source": [
    "print(f\"CHSH Value from Ideal Simulator: {ideal_CHSH:.4f}\")\n",
    "print(f\"CHSH Inequality Violated: {ideal_CHSH > 2}\")"
   ]
  },
  {
   "cell_type": "code",
   "execution_count": null,
   "id": "3662f9ca",
   "metadata": {},
   "outputs": [],
   "source": [
    "print(\"\\n\")"
   ]
  },
  {
   "cell_type": "code",
   "execution_count": null,
   "id": "bca2ef31",
   "metadata": {},
   "outputs": [],
   "source": [
    "noisy_CHSH = CHSHValue(noisy_expectation)"
   ]
  },
  {
   "cell_type": "code",
   "execution_count": null,
   "id": "afddc0e7",
   "metadata": {},
   "outputs": [],
   "source": [
    "print(f\"CHSH Value from Noisy Simulator: {noisy_CHSH:.4f}\")\n",
    "print(f\"CHSH Inequality Violated: {noisy_CHSH > 2}\")"
   ]
  },
  {
   "cell_type": "code",
   "execution_count": null,
   "id": "86e40771",
   "metadata": {
    "lines_to_next_cell": 2
   },
   "outputs": [],
   "source": [
    "print(\"\\n\")"
   ]
  },
  {
   "cell_type": "code",
   "execution_count": null,
   "id": "c1d64671",
   "metadata": {},
   "outputs": [],
   "source": [
    "real_CHSH = CHSHValue(real_expectation)"
   ]
  },
  {
   "cell_type": "code",
   "execution_count": null,
   "id": "6c598803",
   "metadata": {},
   "outputs": [],
   "source": [
    "print(f\"CHSH Value from IBM Quantum Computer: {real_CHSH:.4f}\")\n",
    "print(f\"CHSH Inequality Violated: {real_CHSH > 2}\")"
   ]
  }
 ],
 "metadata": {
  "jupytext": {
   "cell_metadata_filter": "-all",
   "main_language": "python",
   "notebook_metadata_filter": "-all"
  },
  "kernelspec": {
   "display_name": "Python 3 (ipykernel)",
   "language": "python",
   "name": "python3"
  },
  "language_info": {
   "codemirror_mode": {
    "name": "ipython",
    "version": 3
   },
   "file_extension": ".py",
   "mimetype": "text/x-python",
   "name": "python",
   "nbconvert_exporter": "python",
   "pygments_lexer": "ipython3",
   "version": "3.11.10"
  }
 },
 "nbformat": 4,
 "nbformat_minor": 5
}

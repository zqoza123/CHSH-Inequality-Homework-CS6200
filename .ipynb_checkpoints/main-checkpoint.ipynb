{
 "cells": [
  {
   "cell_type": "code",
   "execution_count": null,
   "id": "098eb7dc",
   "metadata": {},
   "outputs": [],
   "source": [
    "# General\n",
    "import numpy as np"
   ]
  },
  {
   "cell_type": "code",
   "execution_count": null,
   "id": "68490565",
   "metadata": {},
   "outputs": [],
   "source": [
    "# Plotting routines\n",
    "import matplotlib.pyplot as plt\n",
    "from collections import defaultdict"
   ]
  },
  {
   "cell_type": "code",
   "execution_count": null,
   "id": "ff625c21",
   "metadata": {},
   "outputs": [],
   "source": [
    "# Qiskit imports\n",
    "from qiskit import QuantumCircuit, QuantumRegister, ClassicalRegister\n",
    "from qiskit.visualization import plot_histogram\n",
    "from qiskit.transpiler.preset_passmanagers import generate_preset_pass_manager"
   ]
  },
  {
   "cell_type": "code",
   "execution_count": null,
   "id": "5b3d4f47",
   "metadata": {},
   "outputs": [],
   "source": [
    "# Qiskit Aer imports\n",
    "from qiskit_aer import AerSimulator\n",
    "from qiskit_aer.noise import NoiseModel"
   ]
  },
  {
   "cell_type": "code",
   "execution_count": null,
   "id": "467eb963",
   "metadata": {
    "lines_to_next_cell": 1
   },
   "outputs": [],
   "source": [
    "# Qiskit Runtime imports\n",
    "from qiskit_ibm_runtime import QiskitRuntimeService, Sampler, SamplerOptions\n",
    "from qiskit.providers.jobstatus import JobStatus"
   ]
  },
  {
   "cell_type": "code",
   "execution_count": null,
   "id": "175ae30e",
   "metadata": {
    "lines_to_next_cell": 1
   },
   "outputs": [],
   "source": [
    "# Function that creates a maximally entangled Bell state\n",
    "def BellCircuit(qreg_name='q', creg_name='c') -> QuantumCircuit:\n",
    "    qreg_q = QuantumRegister(2, qreg_name)\n",
    "    creg_c = ClassicalRegister(2, creg_name)\n",
    "    qc = QuantumCircuit(qreg_q, creg_c)\n",
    "    qc.h(qreg_q[0])\n",
    "    qc.cx(qreg_q[0], qreg_q[1])\n",
    "    qc.barrier()\n",
    "    return qc"
   ]
  },
  {
   "cell_type": "code",
   "execution_count": null,
   "id": "884bffc5",
   "metadata": {},
   "outputs": [],
   "source": [
    "bell = BellCircuit()\n",
    "bell.draw(output='mpl')\n",
    "plt.show()"
   ]
  },
  {
   "cell_type": "code",
   "execution_count": null,
   "id": "e41d55a2",
   "metadata": {
    "lines_to_next_cell": 1
   },
   "outputs": [],
   "source": [
    "# Define the views\n",
    "views = (\"AB\", \"Ab\", \"aB\", \"ab\")"
   ]
  },
  {
   "cell_type": "code",
   "execution_count": null,
   "id": "a988810c",
   "metadata": {
    "lines_to_next_cell": 1
   },
   "outputs": [],
   "source": [
    "def MeasureWithView(circuit: QuantumCircuit, view: str):\n",
    "    if view == \"AB\":\n",
    "        circuit.ry(-np.pi / 4, circuit.qubits[1])\n",
    "        circuit.measure([0, 1], [0, 1])\n",
    "    elif view == \"Ab\":\n",
    "        circuit.ry(np.pi / 4, circuit.qubits[1])\n",
    "        circuit.measure([0, 1], [0, 1])\n",
    "    elif view == \"aB\":\n",
    "        circuit.ry(-np.pi / 4, circuit.qubits[1])\n",
    "        circuit.h(circuit.qubits[0])\n",
    "        circuit.measure([0, 1], [0, 1])\n",
    "    elif view == \"ab\":\n",
    "        circuit.ry(np.pi / 4, circuit.qubits[1])\n",
    "        circuit.h(circuit.qubits[0])\n",
    "        circuit.measure([0, 1], [0, 1])\n",
    "    return circuit"
   ]
  },
  {
   "cell_type": "code",
   "execution_count": null,
   "id": "6dba66dc",
   "metadata": {},
   "outputs": [],
   "source": [
    "# Create circuits for each view\n",
    "circuits = [MeasureWithView(BellCircuit('q' + view, 'c' + view), view) for view in views]"
   ]
  },
  {
   "cell_type": "code",
   "execution_count": null,
   "id": "7358a150",
   "metadata": {
    "lines_to_next_cell": 1
   },
   "outputs": [],
   "source": [
    "# Plot the circuits\n",
    "for circuit, view in zip(circuits, views):\n",
    "    print(f\"Circuit for view {view}:\")\n",
    "    circuit.draw(output='mpl')\n",
    "    plt.show()"
   ]
  },
  {
   "cell_type": "code",
   "execution_count": null,
   "id": "50aad4db",
   "metadata": {
    "lines_to_next_cell": 1
   },
   "outputs": [],
   "source": [
    "# Function to plot multiple circuits\n",
    "def PlotCircuits(*circuits: QuantumCircuit):\n",
    "    num_circuits = len(circuits)\n",
    "    fig, axs = plt.subplots(1, num_circuits, figsize=(4 * num_circuits, 4))\n",
    "    if num_circuits == 1:\n",
    "        axs = [axs]\n",
    "    for i, (circuit, ax) in enumerate(zip(circuits, axs)):\n",
    "        circuit.draw(output='mpl', ax=ax)\n",
    "        ax.set_title(f'Circuit {i + 1}')\n",
    "    plt.tight_layout()\n",
    "    plt.show()"
   ]
  },
  {
   "cell_type": "code",
   "execution_count": null,
   "id": "1463be6c",
   "metadata": {
    "lines_to_next_cell": 1
   },
   "outputs": [],
   "source": [
    "PlotCircuits(*circuits)"
   ]
  },
  {
   "cell_type": "code",
   "execution_count": null,
   "id": "c9f268ab",
   "metadata": {
    "lines_to_next_cell": 1
   },
   "outputs": [],
   "source": [
    "# Function to plot circuit results\n",
    "def PlotCircuitResults(circuit_results: dict):\n",
    "    try:\n",
    "        formatted_results = {}\n",
    "        for view, counts in circuit_results.items():\n",
    "            if isinstance(counts, dict):\n",
    "                # Ensure keys are strings and values are numbers\n",
    "                formatted_counts = {}\n",
    "                for k, v in counts.items():\n",
    "                    if isinstance(v, dict):\n",
    "                        print(f\"Skipping nested dict for key {k} in view {view}.\")\n",
    "                        continue  # Skip nested dicts\n",
    "                    if not isinstance(k, str):\n",
    "                        k = str(k)\n",
    "                    if not isinstance(v, (int, float)):\n",
    "                        print(f\"Invalid count value for key {k} in view {view}: {v}\")\n",
    "                        continue\n",
    "                    formatted_counts[k] = v\n",
    "                if formatted_counts:  # Only add if not empty\n",
    "                    formatted_results[view] = formatted_counts\n",
    "            else:\n",
    "                print(f\"Counts for view {view} are not in the expected format.\")\n",
    "        plot_histogram(formatted_results, figsize=(8, 6))\n",
    "        plt.show()\n",
    "    except Exception as e:\n",
    "        print(f\"Error encountered while plotting results: {e}\")"
   ]
  },
  {
   "cell_type": "code",
   "execution_count": null,
   "id": "74749142",
   "metadata": {
    "lines_to_next_cell": 2
   },
   "outputs": [],
   "source": [
    "# Example usage of PlotCircuitResults\n",
    "PlotCircuitResults({\n",
    "    \"AB\": {\"00\": 400, \"01\": 300, \"10\": 200, \"11\": 100},\n",
    "    \"Ab\": {\"00\": 100, \"01\": 200, \"10\": 300, \"11\": 400},\n",
    "    \"aB\": {\"00\": 250, \"01\": 250, \"10\": 250, \"11\": 250},\n",
    "    \"ab\": {\"00\": 900, \"01\": 0, \"10\": 0, \"11\": 100},\n",
    "})"
   ]
  },
  {
   "cell_type": "markdown",
   "id": "620abed2",
   "metadata": {},
   "source": [
    "--- Running Circuits on an Ideal Simulator ---"
   ]
  },
  {
   "cell_type": "code",
   "execution_count": null,
   "id": "bb12b36e",
   "metadata": {},
   "outputs": [],
   "source": [
    "# Use AerSimulator to simulate 1000 shots for each view circuit\n",
    "simulator = AerSimulator()\n",
    "job = simulator.run(circuits, shots=1000)\n",
    "ideal_results = job.result()"
   ]
  },
  {
   "cell_type": "code",
   "execution_count": null,
   "id": "49147ad7",
   "metadata": {},
   "outputs": [],
   "source": [
    "# Get counts for each circuit\n",
    "ideal_counts = {view: ideal_results.get_counts(circuit) for view, circuit in zip(views, circuits)}"
   ]
  },
  {
   "cell_type": "code",
   "execution_count": null,
   "id": "7340ba8d",
   "metadata": {
    "lines_to_next_cell": 2
   },
   "outputs": [],
   "source": [
    "# Plot the results\n",
    "PlotCircuitResults(ideal_counts)"
   ]
  },
  {
   "cell_type": "markdown",
   "id": "3753a8b7",
   "metadata": {},
   "source": [
    "--- Running Circuits on an IBM Noisy Simulator ---"
   ]
  },
  {
   "cell_type": "code",
   "execution_count": null,
   "id": "ca014cbc",
   "metadata": {},
   "outputs": [],
   "source": [
    "# Load saved credentials\n",
    "service = QiskitRuntimeService()"
   ]
  },
  {
   "cell_type": "code",
   "execution_count": null,
   "id": "0b239e6d",
   "metadata": {},
   "outputs": [],
   "source": [
    "# Get a backend\n",
    "backend_name = 'ibm_kyiv'  # or another backend\n",
    "backend = service.backend(backend_name)"
   ]
  },
  {
   "cell_type": "code",
   "execution_count": null,
   "id": "fd68b7e9",
   "metadata": {},
   "outputs": [],
   "source": [
    "# Create a NoiseModel using the backend\n",
    "noise_model = NoiseModel.from_backend(backend)"
   ]
  },
  {
   "cell_type": "code",
   "execution_count": null,
   "id": "fdba3304",
   "metadata": {},
   "outputs": [],
   "source": [
    "# Create an AerSimulator using the noise model\n",
    "noisy_simulator = AerSimulator(noise_model=noise_model)"
   ]
  },
  {
   "cell_type": "code",
   "execution_count": null,
   "id": "808b86e9",
   "metadata": {},
   "outputs": [],
   "source": [
    "# Transpile circuits for the noisy backend\n",
    "transpiler = generate_preset_pass_manager(optimization_level=1, backend=backend)\n",
    "transpiled_circuits = transpiler.run(circuits)"
   ]
  },
  {
   "cell_type": "code",
   "execution_count": null,
   "id": "2c7cf402",
   "metadata": {},
   "outputs": [],
   "source": [
    "# Run the transpiled circuits on the noisy simulator\n",
    "job = noisy_simulator.run(transpiled_circuits, shots=1000)\n",
    "noisy_results = job.result()"
   ]
  },
  {
   "cell_type": "code",
   "execution_count": null,
   "id": "50b49ed2",
   "metadata": {},
   "outputs": [],
   "source": [
    "# Get counts for each circuit\n",
    "noisy_counts = {view: noisy_results.get_counts(circuit) for view, circuit in zip(views, transpiled_circuits)}"
   ]
  },
  {
   "cell_type": "code",
   "execution_count": null,
   "id": "284854a4",
   "metadata": {
    "lines_to_next_cell": 2
   },
   "outputs": [],
   "source": [
    "# Plot the results\n",
    "PlotCircuitResults(noisy_counts)"
   ]
  },
  {
   "cell_type": "markdown",
   "id": "4f81042d",
   "metadata": {},
   "source": [
    "--- Running Circuits on an IBM Quantum Computer ---"
   ]
  },
  {
   "cell_type": "code",
   "execution_count": null,
   "id": "d2b96024",
   "metadata": {},
   "outputs": [],
   "source": [
    "# Define the combined circuit that includes all four view experiments\n",
    "circ_combined = QuantumCircuit()"
   ]
  },
  {
   "cell_type": "code",
   "execution_count": null,
   "id": "d14d2b82",
   "metadata": {},
   "outputs": [],
   "source": [
    "for view in views:\n",
    "    # Create unique register names for each experiment within the combined circuit\n",
    "    qreg_name = f'q_{view}'\n",
    "    creg_name = f'c_{view}'\n",
    "\n",
    "    # Create a fresh Bell circuit with unique register names\n",
    "    experiment_circuit = MeasureWithView(BellCircuit(qreg_name, creg_name), view)\n",
    "\n",
    "    # Add the registers to the combined circuit\n",
    "    circ_combined.add_register(experiment_circuit.qregs[0])\n",
    "    circ_combined.add_register(experiment_circuit.cregs[0])\n",
    "\n",
    "    # Determine the qubit and clbit indices within circ_combined\n",
    "    # Since circ_combined is being built sequentially, qubits and clbits are added in order\n",
    "    qubit_indices = list(range(circ_combined.num_qubits - 2, circ_combined.num_qubits))\n",
    "    clbit_indices = list(range(circ_combined.num_clbits - 2, circ_combined.num_clbits))\n",
    "\n",
    "    # Compose the experiment circuit into circ_combined at the specified indices\n",
    "    circ_combined.compose(\n",
    "        experiment_circuit,\n",
    "        qubits=qubit_indices,\n",
    "        clbits=clbit_indices,\n",
    "        inplace=True\n",
    "    )"
   ]
  },
  {
   "cell_type": "code",
   "execution_count": null,
   "id": "5026f020",
   "metadata": {},
   "outputs": [],
   "source": [
    "# Optional: Draw the combined circuit to verify\n",
    "circ_combined.draw('mpl')\n",
    "plt.show()"
   ]
  },
  {
   "cell_type": "code",
   "execution_count": null,
   "id": "a8ea6473",
   "metadata": {},
   "outputs": [],
   "source": [
    "# Calculate the number of qubits to use (80% of total, rounded down to nearest multiple of 8)\n",
    "num_qubits = 8 * ((backend.num_qubits * 4 // 5) // 8)\n",
    "print(f\"Total qubits in circ_real: {num_qubits}\")"
   ]
  },
  {
   "cell_type": "code",
   "execution_count": null,
   "id": "a60c1f70",
   "metadata": {},
   "outputs": [],
   "source": [
    "# Determine the number of repeats\n",
    "circuit_qubits = circ_combined.num_qubits  # Should be 8 (2 qubits * 4 experiments)\n",
    "num_repeats = num_qubits // circuit_qubits\n",
    "print(f\"Number of repeats: {num_repeats}\")"
   ]
  },
  {
   "cell_type": "code",
   "execution_count": null,
   "id": "4ac0d209",
   "metadata": {},
   "outputs": [],
   "source": [
    "# Build the real circuit by repeating the combined circuit\n",
    "circ_real = QuantumCircuit()"
   ]
  },
  {
   "cell_type": "code",
   "execution_count": null,
   "id": "ea165444",
   "metadata": {},
   "outputs": [],
   "source": [
    "for repeat in range(num_repeats):\n",
    "    # Create unique register names for each repetition\n",
    "    qreg_name = f'q_rep{repeat}'\n",
    "    creg_name = f'c_rep{repeat}'\n",
    "\n",
    "    # Create quantum and classical registers for this repetition\n",
    "    qreg = QuantumRegister(circuit_qubits, name=qreg_name)\n",
    "    creg = ClassicalRegister(circuit_qubits, name=creg_name)\n",
    "\n",
    "    # Add the registers to circ_real\n",
    "    circ_real.add_register(qreg)\n",
    "    circ_real.add_register(creg)\n",
    "\n",
    "    # Determine qubit and clbit indices for composition\n",
    "    qubit_indices = list(range(circuit_qubits * repeat, circuit_qubits * (repeat + 1)))\n",
    "    clbit_indices = list(range(circuit_qubits * repeat, circuit_qubits * (repeat + 1)))\n",
    "\n",
    "    # Compose circ_combined into circ_real at the specified indices\n",
    "    circ_real.compose(\n",
    "        circ_combined,\n",
    "        qubits=qubit_indices,\n",
    "        clbits=clbit_indices,\n",
    "        inplace=True\n",
    "    )"
   ]
  },
  {
   "cell_type": "code",
   "execution_count": null,
   "id": "36af4da8",
   "metadata": {},
   "outputs": [],
   "source": [
    "print(f\"Total qubits in circ_real after repetition: {circ_real.num_qubits}\")\n",
    "print(f\"Total classical bits in circ_real after repetition: {circ_real.num_clbits}\")"
   ]
  },
  {
   "cell_type": "code",
   "execution_count": null,
   "id": "4610e210",
   "metadata": {},
   "outputs": [],
   "source": [
    "# Optional: Draw a portion of the real circuit to verify (commented out to avoid large plots)\n",
    "circ_real.draw('mpl', scale=0.7)\n",
    "plt.show()"
   ]
  },
  {
   "cell_type": "code",
   "execution_count": null,
   "id": "a4a65ed7",
   "metadata": {},
   "outputs": [],
   "source": [
    "# Transpile the real circuit with optimization level 2\n",
    "pass_manager = generate_preset_pass_manager(optimization_level=2, backend=backend)\n",
    "transpiled_circ_real = pass_manager.run(circ_real)\n",
    "print(\"Depth of transpiled circuit:\", transpiled_circ_real.depth())"
   ]
  },
  {
   "cell_type": "code",
   "execution_count": null,
   "id": "a7a10010",
   "metadata": {},
   "outputs": [],
   "source": [
    "# Initialize the Sampler with options as a dictionary\n",
    "sampler_options = {'shots': 1000}  # Include valid options\n",
    "sampler = Sampler(backend=backend, options=sampler_options)"
   ]
  },
  {
   "cell_type": "code",
   "execution_count": null,
   "id": "8dad8522",
   "metadata": {},
   "outputs": [],
   "source": [
    "# Run the transpiled circuit on the real backend using the Sampler\n",
    "job = sampler.run([transpiled_circ_real])\n",
    "job_id = job.job_id()\n",
    "print(f\"Job ID: {job_id}\")"
   ]
  },
  {
   "cell_type": "code",
   "execution_count": null,
   "id": "3053d25f",
   "metadata": {},
   "outputs": [],
   "source": [
    "# Monitor job status\n",
    "import time"
   ]
  },
  {
   "cell_type": "code",
   "execution_count": null,
   "id": "331a1c1a",
   "metadata": {},
   "outputs": [],
   "source": [
    "while True:\n",
    "    status = job.status()\n",
    "    print(f\"Job status: {status}\")\n",
    "    if status == JobStatus.DONE or status == JobStatus.ERROR:\n",
    "        break\n",
    "    time.sleep(10)"
   ]
  },
  {
   "cell_type": "code",
   "execution_count": null,
   "id": "9a29cbfd",
   "metadata": {},
   "outputs": [],
   "source": [
    "# After the job is completed\n",
    "if status == JobStatus.DONE:\n",
    "    result = job.result()\n",
    "\n",
    "    # Initialize real_counts dictionary\n",
    "    real_counts = {view: defaultdict(float) for view in views}\n",
    "\n",
    "    # Process the quasi-distribution\n",
    "    quasi_dist = result.quasi_dists[0]\n",
    "\n",
    "    # Convert quasi probabilities to probabilities\n",
    "    probs = quasi_dist.nearest_probability_distribution()\n",
    "\n",
    "    # Convert to counts\n",
    "    counts = {int(k): v * sampler_options['shots'] for k, v in probs.items()}\n",
    "\n",
    "    # Format the keys to bitstrings\n",
    "    num_clbits = circ_real.num_clbits\n",
    "    counts = {format(k, f'0{num_clbits}b'): v for k, v in counts.items()}\n",
    "\n",
    "    # Process counts for each repetition and view\n",
    "    for bitstring, value in counts.items():\n",
    "        if not isinstance(value, (int, float)):\n",
    "            print(f\"Invalid count value for bitstring {bitstring}: {value}\")\n",
    "            continue\n",
    "        for repeat in range(num_repeats):\n",
    "            offset = repeat * circuit_qubits\n",
    "            segment = bitstring[offset:offset + circuit_qubits]\n",
    "            index = 0\n",
    "            for view in views:\n",
    "                view_bits = segment[index:index + 2]\n",
    "                real_counts[view][view_bits] += value\n",
    "                index += 2\n",
    "\n",
    "    # Convert counts to regular dicts for plotting\n",
    "    real_counts = {view: dict(count_dict) for view, count_dict in real_counts.items()}\n",
    "\n",
    "    # Print real_counts to inspect the data structure\n",
    "    print(\"real_counts:\", real_counts)\n",
    "\n",
    "    # Plot the results\n",
    "    PlotCircuitResults(real_counts)\n",
    "else:\n",
    "    print(\"Job did not complete successfully.\")\n",
    "    # Retrieve and print job error message\n",
    "    job_error_message = job.error_message()\n",
    "    print(f\"Job error message: {job_error_message}\")"
   ]
  },
  {
   "cell_type": "code",
   "execution_count": null,
   "id": "ea96573c",
   "metadata": {},
   "outputs": [],
   "source": [
    "# Adjust num_repeats based on the backend's qubit count\n",
    "circuit_qubits = circ_combined.num_qubits\n",
    "num_repeats = num_qubits // circuit_qubits"
   ]
  },
  {
   "cell_type": "code",
   "execution_count": null,
   "id": "dfb756c3",
   "metadata": {},
   "outputs": [],
   "source": [
    "if num_repeats == 0:\n",
    "    num_repeats = 1  # Ensure at least one repetition"
   ]
  },
  {
   "cell_type": "code",
   "execution_count": null,
   "id": "bb916a99",
   "metadata": {},
   "outputs": [],
   "source": [
    "print(f\"Number of repeats: {num_repeats}\")"
   ]
  },
  {
   "cell_type": "code",
   "execution_count": null,
   "id": "07ff0a4e",
   "metadata": {},
   "outputs": [],
   "source": [
    "# Build the real circuit by repeating the combined circuit\n",
    "circ_real = QuantumCircuit()\n",
    "for repeat in range(num_repeats):\n",
    "    offset = repeat * circuit_qubits\n",
    "    # Shift qubit and clbit indices for each repetition\n",
    "    circ_real.add_register(QuantumRegister(circuit_qubits, name=f'q{repeat}'))\n",
    "    circ_real.add_register(ClassicalRegister(circuit_qubits, name=f'c{repeat}'))\n",
    "    circ_real.compose(\n",
    "        circ_combined,\n",
    "        qubits=range(offset, offset + circuit_qubits),\n",
    "        clbits=range(offset, offset + circuit_qubits),\n",
    "        inplace=True\n",
    "    )"
   ]
  },
  {
   "cell_type": "markdown",
   "id": "5eaa48aa",
   "metadata": {},
   "source": [
    "Comment out drawing large circuit to avoid matplotlib error\n",
    "circ_real.draw('mpl')\n",
    "plt.show()"
   ]
  },
  {
   "cell_type": "code",
   "execution_count": null,
   "id": "43bb1b70",
   "metadata": {},
   "outputs": [],
   "source": [
    "# Transpile the combined circuit for the real backend\n",
    "pass_manager = generate_preset_pass_manager(optimization_level=2, backend=backend)  # Corrected function call\n",
    "transpiled_circ_real = pass_manager.run(circ_real)\n",
    "print(\"Depth of transpiled circuit:\", transpiled_circ_real.depth())"
   ]
  },
  {
   "cell_type": "code",
   "execution_count": null,
   "id": "03b53c9b",
   "metadata": {},
   "outputs": [],
   "source": [
    "# Run the transpiled circuit on the real backend using the Sampler\n",
    "sampler_options = SamplerOptions(resilience_level=1)\n",
    "sampler = Sampler(backend=backend, options=sampler_options)"
   ]
  },
  {
   "cell_type": "code",
   "execution_count": null,
   "id": "c97ff08f",
   "metadata": {},
   "outputs": [],
   "source": [
    "job = sampler.run([transpiled_circ_real])\n",
    "job_id = job.job_id()\n",
    "print(f\"Job ID: {job_id}\")"
   ]
  },
  {
   "cell_type": "code",
   "execution_count": null,
   "id": "14d74b78",
   "metadata": {},
   "outputs": [],
   "source": [
    "# Monitor job status\n",
    "import time\n",
    "while True:\n",
    "    status = job.status()\n",
    "    print(f\"Job status: {status}\")\n",
    "    if status == JobStatus.DONE or status == JobStatus.ERROR:\n",
    "        break\n",
    "    time.sleep(10)"
   ]
  },
  {
   "cell_type": "code",
   "execution_count": null,
   "id": "e475d848",
   "metadata": {},
   "outputs": [],
   "source": [
    "# After the job is completed\n",
    "result = job.result()"
   ]
  },
  {
   "cell_type": "code",
   "execution_count": null,
   "id": "11fda4b2",
   "metadata": {},
   "outputs": [],
   "source": [
    "# Initialize real_counts dictionary\n",
    "real_counts = {view: defaultdict(float) for view in views}"
   ]
  },
  {
   "cell_type": "code",
   "execution_count": null,
   "id": "6ca97ae0",
   "metadata": {},
   "outputs": [],
   "source": [
    "# Process the quasi-distribution\n",
    "quasi_dist = result.quasi_dists[0]"
   ]
  },
  {
   "cell_type": "code",
   "execution_count": null,
   "id": "a97f43f6",
   "metadata": {},
   "outputs": [],
   "source": [
    "# Total number of shots\n",
    "total_shots = 1000  # Adjust this if necessary"
   ]
  },
  {
   "cell_type": "code",
   "execution_count": null,
   "id": "28a80eb7",
   "metadata": {},
   "outputs": [],
   "source": [
    "# Convert quasi probabilities to probabilities\n",
    "probs = quasi_dist.nearest_probability_distribution()"
   ]
  },
  {
   "cell_type": "code",
   "execution_count": null,
   "id": "614b1d5b",
   "metadata": {},
   "outputs": [],
   "source": [
    "# Convert to counts\n",
    "counts = {int(k): v * total_shots for k, v in probs.items()}"
   ]
  },
  {
   "cell_type": "code",
   "execution_count": null,
   "id": "7ac5cba3",
   "metadata": {},
   "outputs": [],
   "source": [
    "# Format the keys to bitstrings\n",
    "num_clbits = circ_real.num_clbits\n",
    "counts = {format(k, f'0{num_clbits}b'): v for k, v in counts.items()}"
   ]
  },
  {
   "cell_type": "code",
   "execution_count": null,
   "id": "0b493c02",
   "metadata": {},
   "outputs": [],
   "source": [
    "# Process counts for each repetition and view\n",
    "for bitstring, value in counts.items():\n",
    "    for repeat in range(num_repeats):\n",
    "        offset = repeat * circ_combined.num_clbits\n",
    "        segment = bitstring[offset:offset + circ_combined.num_clbits]\n",
    "        index = 0\n",
    "        for view in views:\n",
    "            view_bits = segment[index:index + 2]\n",
    "            if not isinstance(value, (int, float)):\n",
    "                print(f\"Invalid count value for bitstring {bitstring}: {value}\")\n",
    "                continue\n",
    "            real_counts[view][view_bits] += value\n",
    "            index += 2"
   ]
  },
  {
   "cell_type": "code",
   "execution_count": null,
   "id": "d827b23d",
   "metadata": {},
   "outputs": [],
   "source": [
    "# Convert counts to regular dicts for plotting\n",
    "real_counts = {view: dict(count_dict) for view, count_dict in real_counts.items()}"
   ]
  },
  {
   "cell_type": "code",
   "execution_count": null,
   "id": "34e6c8a2",
   "metadata": {},
   "outputs": [],
   "source": [
    "# Print real_counts to inspect the data structure\n",
    "print(\"real_counts:\", real_counts)"
   ]
  },
  {
   "cell_type": "code",
   "execution_count": null,
   "id": "d3f7aa0d",
   "metadata": {},
   "outputs": [],
   "source": [
    "# Plot the results\n",
    "PlotCircuitResults(real_counts)"
   ]
  },
  {
   "cell_type": "code",
   "execution_count": null,
   "id": "79d9334c",
   "metadata": {
    "lines_to_next_cell": 1
   },
   "outputs": [],
   "source": [
    "def ExpectationValue(counts):\n",
    "\n",
    "    # Calculate the total number of shots\n",
    "    total_shots = sum(counts.values())\n",
    "\n",
    "    if total_shots == 0:\n",
    "        raise ValueError(\"Total number of shots is zero. Cannot compute expectation value.\")\n",
    "\n",
    "    # Compute probabilities for each relevant bitstring\n",
    "    P00 = counts.get('00', 0) / total_shots\n",
    "    P11 = counts.get('11', 0) / total_shots\n",
    "    P01 = counts.get('01', 0) / total_shots\n",
    "    P10 = counts.get('10', 0) / total_shots\n",
    "\n",
    "    # Calculate the expectation value using the CHSH formula\n",
    "    expectation = P00 + P11 - P01 - P10\n",
    "\n",
    "    return expectation"
   ]
  },
  {
   "cell_type": "markdown",
   "id": "61e08f60",
   "metadata": {},
   "source": [
    "--- Calculating Expectation Values from the Ideal Simulator ---"
   ]
  },
  {
   "cell_type": "code",
   "execution_count": null,
   "id": "16bf6d7d",
   "metadata": {},
   "outputs": [],
   "source": [
    "# Initialize a dictionary to store expectation values\n",
    "ideal_expectation = {}"
   ]
  },
  {
   "cell_type": "code",
   "execution_count": null,
   "id": "9f51156b",
   "metadata": {},
   "outputs": [],
   "source": [
    "# Iterate over each view and compute the expectation value\n",
    "for view in views:\n",
    "    counts = ideal_counts.get(view, {})\n",
    "    expectation = ExpectationValue(counts)\n",
    "    ideal_expectation[view] = expectation\n",
    "    print(f\"Expectation value for {view} (Ideal Simulator): {expectation:.4f}\")"
   ]
  },
  {
   "cell_type": "code",
   "execution_count": null,
   "id": "529d5ceb",
   "metadata": {},
   "outputs": [],
   "source": [
    "print(\"\\n\")  # Add space between sections"
   ]
  },
  {
   "cell_type": "markdown",
   "id": "0655f13c",
   "metadata": {},
   "source": [
    "--- Calculating Expectation Values from the Noisy Simulator ---"
   ]
  },
  {
   "cell_type": "code",
   "execution_count": null,
   "id": "ca577d71",
   "metadata": {},
   "outputs": [],
   "source": [
    "# Initialize a dictionary to store expectation values\n",
    "noisy_expectation = {}"
   ]
  },
  {
   "cell_type": "code",
   "execution_count": null,
   "id": "2f7416c1",
   "metadata": {},
   "outputs": [],
   "source": [
    "# Iterate over each view and compute the expectation value\n",
    "for view in views:\n",
    "    counts = noisy_counts.get(view, {})\n",
    "    expectation = ExpectationValue(counts)\n",
    "    noisy_expectation[view] = expectation\n",
    "    print(f\"Expectation value for {view} (Noisy Simulator): {expectation:.4f}\")"
   ]
  },
  {
   "cell_type": "code",
   "execution_count": null,
   "id": "489705d3",
   "metadata": {},
   "outputs": [],
   "source": [
    "print(\"\\n\")  # Add space between sections"
   ]
  },
  {
   "cell_type": "markdown",
   "id": "e73cfc22",
   "metadata": {},
   "source": [
    "--- Calculating Expectation Values from the IBM Quantum Computer ---"
   ]
  },
  {
   "cell_type": "code",
   "execution_count": null,
   "id": "1e03ab4e",
   "metadata": {},
   "outputs": [],
   "source": [
    "# Initialize a dictionary to store expectation values\n",
    "real_expectation = {}"
   ]
  },
  {
   "cell_type": "code",
   "execution_count": null,
   "id": "51212c0c",
   "metadata": {},
   "outputs": [],
   "source": [
    "# Iterate over each view and compute the expectation value\n",
    "for view in views:\n",
    "    counts = real_counts.get(view, {})\n",
    "    expectation = ExpectationValue(counts)\n",
    "    real_expectation[view] = expectation\n",
    "    print(f\"Expectation value for {view} (IBM Quantum Computer): {expectation:.4f}\")"
   ]
  },
  {
   "cell_type": "markdown",
   "id": "e4420579",
   "metadata": {},
   "source": [
    "--- Part 2: Calculating ⟨CHSH⟩ ---"
   ]
  },
  {
   "cell_type": "code",
   "execution_count": null,
   "id": "b8daa178",
   "metadata": {},
   "outputs": [],
   "source": [
    "# Function to calculate CHSH value\n",
    "def CHSHValue(ev):\n",
    "    \"\"\"\n",
    "    Calculate the CHSH value from the expectation values.\n",
    "\n",
    "    Args:\n",
    "        ev (dict): A dictionary with expectation values for each view.\n",
    "                   Example: {'AB': 1.0, 'Ab': 1.0, 'aB': 1.0, 'ab': 1.0}\n",
    "\n",
    "    Returns:\n",
    "        float: The CHSH value ⟨CHSH⟩.\n",
    "    \"\"\"\n",
    "    try:\n",
    "        # Extract expectation values for each view\n",
    "        AB = ev.get('AB', 0)\n",
    "        Ab = ev.get('Ab', 0)\n",
    "        aB = ev.get('aB', 0)\n",
    "        ab = ev.get('ab', 0)\n",
    "\n",
    "        # Calculate CHSH value using the formula\n",
    "        CHSH = AB + Ab + aB - ab\n",
    "\n",
    "        return CHSH\n",
    "    except Exception as e:\n",
    "        print(f\"Error calculating CHSH value: {e}\")\n",
    "        return None"
   ]
  },
  {
   "cell_type": "markdown",
   "id": "5d2eed1e",
   "metadata": {},
   "source": [
    "--- Calculating ⟨CHSH⟩ from Jobs ran on an Ideal Simulator ---"
   ]
  },
  {
   "cell_type": "code",
   "execution_count": null,
   "id": "5febc534",
   "metadata": {},
   "outputs": [],
   "source": [
    "# Calculate the CHSH value using the expectation values from the Ideal Simulator\n",
    "ideal_CHSH = CHSHValue(ideal_expectation)"
   ]
  },
  {
   "cell_type": "code",
   "execution_count": null,
   "id": "a02de15a",
   "metadata": {},
   "outputs": [],
   "source": [
    "# Print the CHSH value and whether the inequality is violated\n",
    "print(f\"CHSH Value from Ideal Simulator: {ideal_CHSH:.4f}\")\n",
    "print(f\"CHSH Inequality Violated: {ideal_CHSH > 2}\")"
   ]
  },
  {
   "cell_type": "code",
   "execution_count": null,
   "id": "75fb8680",
   "metadata": {},
   "outputs": [],
   "source": [
    "print(\"\\n\")  # Add space between sections"
   ]
  },
  {
   "cell_type": "markdown",
   "id": "a43ce1a1",
   "metadata": {},
   "source": [
    "--- Calculating ⟨CHSH⟩ from Jobs ran on a Noisy Simulator ---"
   ]
  },
  {
   "cell_type": "code",
   "execution_count": null,
   "id": "bba67a1b",
   "metadata": {},
   "outputs": [],
   "source": [
    "# Calculate the CHSH value using the expectation values from the Noisy Simulator\n",
    "noisy_CHSH = CHSHValue(noisy_expectation)"
   ]
  },
  {
   "cell_type": "code",
   "execution_count": null,
   "id": "cde92bbc",
   "metadata": {},
   "outputs": [],
   "source": [
    "# Print the CHSH value and whether the inequality is violated\n",
    "print(f\"CHSH Value from Noisy Simulator: {noisy_CHSH:.4f}\")\n",
    "print(f\"CHSH Inequality Violated: {noisy_CHSH > 2}\")"
   ]
  },
  {
   "cell_type": "code",
   "execution_count": null,
   "id": "3791eb10",
   "metadata": {},
   "outputs": [],
   "source": [
    "print(\"\\n\")  # Add space between sections"
   ]
  },
  {
   "cell_type": "markdown",
   "id": "7aa945ed",
   "metadata": {},
   "source": [
    "--- Calculating ⟨CHSH⟩ from Jobs ran on an IBM Quantum Computer ---"
   ]
  },
  {
   "cell_type": "code",
   "execution_count": null,
   "id": "01998b45",
   "metadata": {},
   "outputs": [],
   "source": [
    "# Calculate the CHSH value using the expectation values from the IBM Quantum Computer\n",
    "real_CHSH = CHSHValue(real_expectation)"
   ]
  },
  {
   "cell_type": "code",
   "execution_count": null,
   "id": "a5675261",
   "metadata": {
    "lines_to_next_cell": 2
   },
   "outputs": [],
   "source": [
    "# Print the CHSH value and whether the inequality is violated\n",
    "print(f\"CHSH Value from IBM Quantum Computer: {real_CHSH:.4f}\")\n",
    "print(f\"CHSH Inequality Violated: {real_CHSH > 2}\")"
   ]
  }
 ],
 "metadata": {
  "jupytext": {
   "cell_metadata_filter": "-all",
   "main_language": "python",
   "notebook_metadata_filter": "-all"
  }
 },
 "nbformat": 4,
 "nbformat_minor": 5
}
